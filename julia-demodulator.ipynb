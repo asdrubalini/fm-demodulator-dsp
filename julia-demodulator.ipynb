{
 "cells": [
  {
   "cell_type": "code",
   "execution_count": 1,
   "id": "79d4dee3-2a3a-4f14-a881-b0fc3b7c75b6",
   "metadata": {},
   "outputs": [],
   "source": [
    "using Plots"
   ]
  },
  {
   "cell_type": "code",
   "execution_count": 2,
   "id": "1dcf22f2-19e8-403f-a9ad-a6f6fdc18387",
   "metadata": {},
   "outputs": [
    {
     "data": {
      "text/plain": [
       "88200.0"
      ]
     },
     "execution_count": 2,
     "metadata": {},
     "output_type": "execute_result"
    }
   ],
   "source": [
    "const MODULATOR_FREQUENCY = 1.0\n",
    "const CARRIER_FREQUENCY = 25.0\n",
    "const MODULATION_INDEX = 1.0\n",
    "\n",
    "const SAMPLES_PER_SECOND = 44100.0\n",
    "const DURATION_SECONDS = 2\n",
    "const SAMPLES = SAMPLES_PER_SECOND * DURATION_SECONDS"
   ]
  },
  {
   "cell_type": "code",
   "execution_count": 15,
   "id": "13b4077d",
   "metadata": {},
   "outputs": [
    {
     "data": {
      "text/plain": [
       "88201-element Vector{Float64}:\n",
       " 0.0\n",
       " 2.2675736961451248e-5\n",
       " 4.5351473922902495e-5\n",
       " 6.802721088435374e-5\n",
       " 9.070294784580499e-5\n",
       " 0.00011337868480725624\n",
       " 0.00013605442176870748\n",
       " 0.00015873015873015873\n",
       " 0.00018140589569160998\n",
       " 0.00020408163265306123\n",
       " 0.00022675736961451248\n",
       " 0.00024943310657596373\n",
       " 0.00027210884353741496\n",
       " ⋮\n",
       " 1.9997505668934241\n",
       " 1.9997732426303856\n",
       " 1.999795918367347\n",
       " 1.9998185941043083\n",
       " 1.9998412698412698\n",
       " 1.9998639455782312\n",
       " 1.9998866213151927\n",
       " 1.9999092970521541\n",
       " 1.9999319727891156\n",
       " 1.999954648526077\n",
       " 1.9999773242630385\n",
       " 2.0"
      ]
     },
     "execution_count": 15,
     "metadata": {},
     "output_type": "execute_result"
    }
   ],
   "source": [
    "time = collect(0:SAMPLES) ./ SAMPLES_PER_SECOND"
   ]
  }
 ],
 "metadata": {
  "kernelspec": {
   "display_name": "Julia 1.7.2",
   "language": "julia",
   "name": "julia-1.7"
  },
  "language_info": {
   "file_extension": ".jl",
   "mimetype": "application/julia",
   "name": "julia",
   "version": "1.7.2"
  }
 },
 "nbformat": 4,
 "nbformat_minor": 5
}
